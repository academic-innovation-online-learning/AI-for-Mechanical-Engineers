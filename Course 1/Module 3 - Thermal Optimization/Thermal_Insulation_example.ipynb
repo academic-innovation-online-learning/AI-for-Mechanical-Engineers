{
 "cells": [
  {
   "cell_type": "code",
   "execution_count": 325,
   "id": "f73132ab-5e83-4065-875f-a46e888e5405",
   "metadata": {},
   "outputs": [],
   "source": [
    "import os\n",
    "os.environ[\"KMP_DUPLICATE_LIB_OK\"]=\"TRUE\""
   ]
  },
  {
   "cell_type": "code",
   "execution_count": 326,
   "id": "9dcc03f8-7a14-4a3b-8076-68adbed36cde",
   "metadata": {},
   "outputs": [],
   "source": [
    "import torch\n",
    "import torch.nn as nn\n",
    "import torch.optim as optim\n",
    "import matplotlib.pyplot as plt\n",
    "import math\n",
    "import numpy as np"
   ]
  },
  {
   "cell_type": "code",
   "execution_count": 327,
   "id": "7d443919-7eda-4327-83b8-cccf4c484945",
   "metadata": {},
   "outputs": [],
   "source": [
    "# Generate training dataset\n",
    "n_row = 50\n",
    "n_col = 50\n",
    "n_samples = n_row * n_col\n",
    "\n",
    "x1 = torch.zeros(n_samples, 1)\n",
    "x2 = torch.zeros(n_samples, 1)\n",
    "x3 = torch.zeros(n_samples, 1)\n",
    "\n",
    "x1_min, x1_max = 0.05, 0.25\n",
    "\n",
    "for i in range(n_samples):\n",
    "    row = int(i / n_col)\n",
    "    col = i - row * n_col\n",
    "    x1[i] = row * (x1_max - x1_min) / n_row + x1_min\n",
    "    \n",
    "    x2_min = 0.05\n",
    "    x2_max = 0.6 - 2 * x1[i] - 0.05\n",
    "    x2[i] =  col * (x2_max - x2_min) / n_col + x2_min\n",
    "    \n",
    "    x3[i] = 1.5 - 5 * x1[i] - 2.5 * x2[i]\n",
    "\n",
    "x3_min = min(x3)\n",
    "x3_max = max(x3)"
   ]
  },
  {
   "cell_type": "code",
   "execution_count": 328,
   "id": "f09f1668-f321-47ce-8758-c7a8a3f5f1d2",
   "metadata": {},
   "outputs": [],
   "source": [
    "# Heat loss\n",
    "def heat_loss(x1, x2, x3):\n",
    "    Q = 1 / x1 + 1.5 / x2  + 2.0 / x3\n",
    "    return Q\n",
    "\n",
    "# Normalize inputs and outputs\n",
    "def normalize(data, data_min, data_max):\n",
    "    return (data - data_min) / (data_max - data_min)\n",
    "\n",
    "def denormalize(data, data_min, data_max):\n",
    "    return data * (data_max - data_min) + data_min\n",
    "\n",
    "# Normalize data\n",
    "x1_norm = normalize(x1, x1_min, x1_max)\n",
    "x2_norm = normalize(x2, x2_min, x2_max)\n",
    "x3_norm = normalize(x3, x3_min, x3_max)\n",
    "Q = heat_loss(x1, x2, x3)\n",
    "Q_min, Q_max = Q.min(), Q.max()  # Save for denormalization\n",
    "Q_norm = normalize(Q, Q_min, Q_max)"
   ]
  },
  {
   "cell_type": "code",
   "execution_count": 329,
   "id": "c550ef3c-f21a-47b7-92ed-c590acca574d",
   "metadata": {},
   "outputs": [],
   "source": [
    "# Combine normalized inputs\n",
    "inputs_norm = torch.cat((x1_norm, x2_norm), dim=1)\n",
    "outputs_norm = Q_norm.view(-1, 1)"
   ]
  },
  {
   "cell_type": "code",
   "execution_count": 330,
   "id": "c4bbfd2e-d1b7-4b18-86d3-d334ad924040",
   "metadata": {},
   "outputs": [
    {
     "name": "stdout",
     "output_type": "stream",
     "text": [
      "Epoch [200/5000], Loss: 0.00761\n",
      "Epoch [400/5000], Loss: 0.00136\n",
      "Epoch [600/5000], Loss: 0.00152\n",
      "Epoch [800/5000], Loss: 0.00086\n",
      "Epoch [1000/5000], Loss: 0.00067\n",
      "Epoch [1200/5000], Loss: 0.00049\n",
      "Epoch [1400/5000], Loss: 0.00038\n",
      "Epoch [1600/5000], Loss: 0.00045\n",
      "Epoch [1800/5000], Loss: 0.00031\n",
      "Epoch [2000/5000], Loss: 0.00024\n",
      "Epoch [2200/5000], Loss: 0.00031\n",
      "Epoch [2400/5000], Loss: 0.00032\n",
      "Epoch [2600/5000], Loss: 0.00024\n",
      "Epoch [2800/5000], Loss: 0.00020\n",
      "Epoch [3000/5000], Loss: 0.00021\n",
      "Epoch [3200/5000], Loss: 0.00042\n",
      "Epoch [3400/5000], Loss: 0.00025\n",
      "Epoch [3600/5000], Loss: 0.00017\n",
      "Epoch [3800/5000], Loss: 0.00014\n",
      "Epoch [4000/5000], Loss: 0.00015\n",
      "Epoch [4200/5000], Loss: 0.00022\n",
      "Epoch [4400/5000], Loss: 0.00012\n",
      "Epoch [4600/5000], Loss: 0.00014\n",
      "Epoch [4800/5000], Loss: 0.00011\n",
      "Epoch [5000/5000], Loss: 0.00018\n"
     ]
    },
    {
     "data": {
      "image/png": "[encoded data removed]",
      "text/plain": [
       "<Figure size 800x500 with 1 Axes>"
      ]
     },
     "metadata": {},
     "output_type": "display_data"
    }
   ],
   "source": [
    "# Define the neural network model\n",
    "class SurrogateModel(nn.Module):\n",
    "    def __init__(self):\n",
    "        super(SurrogateModel, self).__init__()\n",
    "        self.fc1 = nn.Linear(2, 20)\n",
    "        self.fc2 = nn.Linear(20, 20)\n",
    "        self.fc3 = nn.Linear(20, 1)\n",
    "    \n",
    "    def forward(self, x):\n",
    "        x = torch.relu(self.fc1(x))\n",
    "        x = torch.relu(self.fc2(x))\n",
    "        x = self.fc3(x)\n",
    "        return x\n",
    "\n",
    "# Initialize the model, loss function, and optimizer\n",
    "model = SurrogateModel()\n",
    "criterion = nn.MSELoss()\n",
    "optimizer = optim.Adam(model.parameters(), lr=0.01)\n",
    "\n",
    "# Train the model\n",
    "n_epochs = 5000\n",
    "loss_history = []\n",
    "\n",
    "for epoch in range(n_epochs):\n",
    "    model.train()\n",
    "    optimizer.zero_grad()\n",
    "    \n",
    "    # Forward pass\n",
    "    predictions = model(inputs_norm)\n",
    "    loss = criterion(predictions, outputs_norm)\n",
    "    loss.backward()\n",
    "    optimizer.step()\n",
    "    \n",
    "    loss_history.append(loss.item())\n",
    "    if (epoch + 1) % 200 == 0:\n",
    "        print(f'Epoch [{epoch+1}/{n_epochs}], Loss: {loss.item():.5f}')\n",
    "\n",
    "# Plot the training loss\n",
    "plt.figure(figsize=(8, 5))\n",
    "plt.plot(loss_history, label='Training Loss')\n",
    "plt.xlabel('Epoch')\n",
    "plt.ylabel('Loss')\n",
    "plt.title('Training Loss Curve')\n",
    "plt.legend()\n",
    "plt.grid(True)\n",
    "plt.show()"
   ]
  },
  {
   "cell_type": "code",
   "execution_count": 331,
   "id": "d1a690e5-e018-4815-bb49-501fd26b7f03",
   "metadata": {},
   "outputs": [
    {
     "name": "stdout",
     "output_type": "stream",
     "text": [
      "Iteration [500/2000], Predicted Q: 20.3893, x_opt: [ 0.2901919 20.288542 ]\n",
      "Iteration [1000/2000], Predicted Q: 20.3410, x_opt: [ 0.31621012 19.807589  ]\n",
      "Iteration [1500/2000], Predicted Q: 20.4556, x_opt: [ 0.23137152 20.744766  ]\n",
      "Iteration [2000/2000], Predicted Q: 20.4293, x_opt: [ 0.3300678 19.452684 ]\n",
      "x1= 0.12\n",
      "x2= 0.21\n",
      "x3= 0.41\n"
     ]
    }
   ],
   "source": [
    "# Optimization with constraints\n",
    "x_opt = torch.tensor([0.5, 0.5], requires_grad=True)  # Start with normalized values\n",
    "optimizer = optim.Adam([x_opt], lr=0.5)\n",
    "\n",
    "n_iterations = 2000\n",
    "for iteration in range(n_iterations):\n",
    "    optimizer.zero_grad()\n",
    "    \n",
    "    # Predict normalized Q\n",
    "    Q_pred_norm = model(x_opt)\n",
    "    Q_pred = denormalize(Q_pred_norm, Q_min, Q_max)  # Denormalize for penalty calculation\n",
    "    \n",
    "    # Denormalize inputs\n",
    "    x1_denorm = denormalize(x_opt[0], x1_min, x1_max)\n",
    "    x2_denorm = denormalize(x_opt[1], x2_min, x2_max)\n",
    "    \n",
    "    # Loss for maximization (negating Q with penalty)\n",
    "    loss = Q_pred\n",
    "    loss.backward()\n",
    "    optimizer.step()\n",
    "    \n",
    "    if (iteration + 1) % 500 == 0:\n",
    "        print(f'Iteration [{iteration + 1}/{n_iterations}], Predicted Q: {Q_pred.item():.4f}, x_opt: {x_opt.data.numpy()}')\n",
    "\n",
    "# Final optimized values (denormalized)\n",
    "x1_opt = denormalize(x_opt[0].detach(), x1_min, x1_max)\n",
    "x2_opt = denormalize(x_opt[1].detach(), x2_min, x2_max)\n",
    "\n",
    "print(f'x1= {x1_opt.item():.2f}')\n",
    "print(f'x2= {x2_opt.item():.2f}')\n",
    "print(f'x3= {1.5 - 5 * x1_opt.item() - 2.5 * x2_opt.item():.2f}')"
   ]
  }
 ],
 "metadata": {
  "kernelspec": {
   "display_name": "Python 3 (ipykernel)",
   "language": "python",
   "name": "python3"
  },
  "language_info": {
   "codemirror_mode": {
    "name": "ipython",
    "version": 3
   },
   "file_extension": ".py",
   "mimetype": "text/x-python",
   "name": "python",
   "nbconvert_exporter": "python",
   "pygments_lexer": "ipython3",
   "version": "3.11.2"
  }
 },
 "nbformat": 4,
 "nbformat_minor": 5
}
